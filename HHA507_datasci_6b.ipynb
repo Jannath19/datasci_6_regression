{
  "nbformat": 4,
  "nbformat_minor": 0,
  "metadata": {
    "colab": {
      "provenance": [],
      "authorship_tag": "ABX9TyPXyafV2uTJzOp8I+7EbRa6",
      "include_colab_link": true
    },
    "kernelspec": {
      "name": "python3",
      "display_name": "Python 3"
    },
    "language_info": {
      "name": "python"
    }
  },
  "cells": [
    {
      "cell_type": "markdown",
      "metadata": {
        "id": "view-in-github",
        "colab_type": "text"
      },
      "source": [
        "<a href=\"https://colab.research.google.com/github/Jannath19/datasci_6_regression/blob/main/HHA507_datasci_6b.ipynb\" target=\"_parent\"><img src=\"https://colab.research.google.com/assets/colab-badge.svg\" alt=\"Open In Colab\"/></a>"
      ]
    },
    {
      "cell_type": "markdown",
      "source": [
        "# Loading Packages"
      ],
      "metadata": {
        "id": "OoVHLxtaaKh1"
      }
    },
    {
      "cell_type": "code",
      "execution_count": 2,
      "metadata": {
        "id": "3DQwl-hUZ9Rd"
      },
      "outputs": [],
      "source": [
        "import pandas as pd\n",
        "import statsmodels.api as sm\n",
        "import matplotlib.pyplot as plt\n",
        "import seaborn as sns\n",
        "from scipy.stats import shapiro\n",
        "from scipy import stats\n",
        "from statsmodels.stats.diagnostic import het_goldfeldquandt\n",
        "import statsmodels.api as sm\n",
        "from statsmodels.stats.diagnostic import linear_rainbow\n",
        "from statsmodels.stats.outliers_influence import variance_inflation_factor"
      ]
    },
    {
      "cell_type": "markdown",
      "source": [
        "# Loading In Dataset\n"
      ],
      "metadata": {
        "id": "y7AsxsY8akqQ"
      }
    },
    {
      "cell_type": "code",
      "source": [
        "df = pd.read_csv('Maternal Health Risk Data Set.csv')\n",
        "df"
      ],
      "metadata": {
        "colab": {
          "base_uri": "https://localhost:8080/",
          "height": 423
        },
        "id": "mm0zNr0xaoRl",
        "outputId": "946fc88c-4fe5-4834-e0ae-a260af7e6452"
      },
      "execution_count": 3,
      "outputs": [
        {
          "output_type": "execute_result",
          "data": {
            "text/plain": [
              "      Age  SystolicBP  DiastolicBP    BS  BodyTemp  HeartRate  RiskLevel\n",
              "0      25         130           80  15.0      98.0         86  high risk\n",
              "1      35         140           90  13.0      98.0         70  high risk\n",
              "2      29          90           70   8.0     100.0         80  high risk\n",
              "3      30         140           85   7.0      98.0         70  high risk\n",
              "4      35         120           60   6.1      98.0         76   low risk\n",
              "...   ...         ...          ...   ...       ...        ...        ...\n",
              "1009   22         120           60  15.0      98.0         80  high risk\n",
              "1010   55         120           90  18.0      98.0         60  high risk\n",
              "1011   35          85           60  19.0      98.0         86  high risk\n",
              "1012   43         120           90  18.0      98.0         70  high risk\n",
              "1013   32         120           65   6.0     101.0         76   mid risk\n",
              "\n",
              "[1014 rows x 7 columns]"
            ],
            "text/html": [
              "\n",
              "  <div id=\"df-bf824048-9bd3-426e-93a0-b8a966c7f54e\" class=\"colab-df-container\">\n",
              "    <div>\n",
              "<style scoped>\n",
              "    .dataframe tbody tr th:only-of-type {\n",
              "        vertical-align: middle;\n",
              "    }\n",
              "\n",
              "    .dataframe tbody tr th {\n",
              "        vertical-align: top;\n",
              "    }\n",
              "\n",
              "    .dataframe thead th {\n",
              "        text-align: right;\n",
              "    }\n",
              "</style>\n",
              "<table border=\"1\" class=\"dataframe\">\n",
              "  <thead>\n",
              "    <tr style=\"text-align: right;\">\n",
              "      <th></th>\n",
              "      <th>Age</th>\n",
              "      <th>SystolicBP</th>\n",
              "      <th>DiastolicBP</th>\n",
              "      <th>BS</th>\n",
              "      <th>BodyTemp</th>\n",
              "      <th>HeartRate</th>\n",
              "      <th>RiskLevel</th>\n",
              "    </tr>\n",
              "  </thead>\n",
              "  <tbody>\n",
              "    <tr>\n",
              "      <th>0</th>\n",
              "      <td>25</td>\n",
              "      <td>130</td>\n",
              "      <td>80</td>\n",
              "      <td>15.0</td>\n",
              "      <td>98.0</td>\n",
              "      <td>86</td>\n",
              "      <td>high risk</td>\n",
              "    </tr>\n",
              "    <tr>\n",
              "      <th>1</th>\n",
              "      <td>35</td>\n",
              "      <td>140</td>\n",
              "      <td>90</td>\n",
              "      <td>13.0</td>\n",
              "      <td>98.0</td>\n",
              "      <td>70</td>\n",
              "      <td>high risk</td>\n",
              "    </tr>\n",
              "    <tr>\n",
              "      <th>2</th>\n",
              "      <td>29</td>\n",
              "      <td>90</td>\n",
              "      <td>70</td>\n",
              "      <td>8.0</td>\n",
              "      <td>100.0</td>\n",
              "      <td>80</td>\n",
              "      <td>high risk</td>\n",
              "    </tr>\n",
              "    <tr>\n",
              "      <th>3</th>\n",
              "      <td>30</td>\n",
              "      <td>140</td>\n",
              "      <td>85</td>\n",
              "      <td>7.0</td>\n",
              "      <td>98.0</td>\n",
              "      <td>70</td>\n",
              "      <td>high risk</td>\n",
              "    </tr>\n",
              "    <tr>\n",
              "      <th>4</th>\n",
              "      <td>35</td>\n",
              "      <td>120</td>\n",
              "      <td>60</td>\n",
              "      <td>6.1</td>\n",
              "      <td>98.0</td>\n",
              "      <td>76</td>\n",
              "      <td>low risk</td>\n",
              "    </tr>\n",
              "    <tr>\n",
              "      <th>...</th>\n",
              "      <td>...</td>\n",
              "      <td>...</td>\n",
              "      <td>...</td>\n",
              "      <td>...</td>\n",
              "      <td>...</td>\n",
              "      <td>...</td>\n",
              "      <td>...</td>\n",
              "    </tr>\n",
              "    <tr>\n",
              "      <th>1009</th>\n",
              "      <td>22</td>\n",
              "      <td>120</td>\n",
              "      <td>60</td>\n",
              "      <td>15.0</td>\n",
              "      <td>98.0</td>\n",
              "      <td>80</td>\n",
              "      <td>high risk</td>\n",
              "    </tr>\n",
              "    <tr>\n",
              "      <th>1010</th>\n",
              "      <td>55</td>\n",
              "      <td>120</td>\n",
              "      <td>90</td>\n",
              "      <td>18.0</td>\n",
              "      <td>98.0</td>\n",
              "      <td>60</td>\n",
              "      <td>high risk</td>\n",
              "    </tr>\n",
              "    <tr>\n",
              "      <th>1011</th>\n",
              "      <td>35</td>\n",
              "      <td>85</td>\n",
              "      <td>60</td>\n",
              "      <td>19.0</td>\n",
              "      <td>98.0</td>\n",
              "      <td>86</td>\n",
              "      <td>high risk</td>\n",
              "    </tr>\n",
              "    <tr>\n",
              "      <th>1012</th>\n",
              "      <td>43</td>\n",
              "      <td>120</td>\n",
              "      <td>90</td>\n",
              "      <td>18.0</td>\n",
              "      <td>98.0</td>\n",
              "      <td>70</td>\n",
              "      <td>high risk</td>\n",
              "    </tr>\n",
              "    <tr>\n",
              "      <th>1013</th>\n",
              "      <td>32</td>\n",
              "      <td>120</td>\n",
              "      <td>65</td>\n",
              "      <td>6.0</td>\n",
              "      <td>101.0</td>\n",
              "      <td>76</td>\n",
              "      <td>mid risk</td>\n",
              "    </tr>\n",
              "  </tbody>\n",
              "</table>\n",
              "<p>1014 rows × 7 columns</p>\n",
              "</div>\n",
              "    <div class=\"colab-df-buttons\">\n",
              "\n",
              "  <div class=\"colab-df-container\">\n",
              "    <button class=\"colab-df-convert\" onclick=\"convertToInteractive('df-bf824048-9bd3-426e-93a0-b8a966c7f54e')\"\n",
              "            title=\"Convert this dataframe to an interactive table.\"\n",
              "            style=\"display:none;\">\n",
              "\n",
              "  <svg xmlns=\"http://www.w3.org/2000/svg\" height=\"24px\" viewBox=\"0 -960 960 960\">\n",
              "    <path d=\"M120-120v-720h720v720H120Zm60-500h600v-160H180v160Zm220 220h160v-160H400v160Zm0 220h160v-160H400v160ZM180-400h160v-160H180v160Zm440 0h160v-160H620v160ZM180-180h160v-160H180v160Zm440 0h160v-160H620v160Z\"/>\n",
              "  </svg>\n",
              "    </button>\n",
              "\n",
              "  <style>\n",
              "    .colab-df-container {\n",
              "      display:flex;\n",
              "      gap: 12px;\n",
              "    }\n",
              "\n",
              "    .colab-df-convert {\n",
              "      background-color: #E8F0FE;\n",
              "      border: none;\n",
              "      border-radius: 50%;\n",
              "      cursor: pointer;\n",
              "      display: none;\n",
              "      fill: #1967D2;\n",
              "      height: 32px;\n",
              "      padding: 0 0 0 0;\n",
              "      width: 32px;\n",
              "    }\n",
              "\n",
              "    .colab-df-convert:hover {\n",
              "      background-color: #E2EBFA;\n",
              "      box-shadow: 0px 1px 2px rgba(60, 64, 67, 0.3), 0px 1px 3px 1px rgba(60, 64, 67, 0.15);\n",
              "      fill: #174EA6;\n",
              "    }\n",
              "\n",
              "    .colab-df-buttons div {\n",
              "      margin-bottom: 4px;\n",
              "    }\n",
              "\n",
              "    [theme=dark] .colab-df-convert {\n",
              "      background-color: #3B4455;\n",
              "      fill: #D2E3FC;\n",
              "    }\n",
              "\n",
              "    [theme=dark] .colab-df-convert:hover {\n",
              "      background-color: #434B5C;\n",
              "      box-shadow: 0px 1px 3px 1px rgba(0, 0, 0, 0.15);\n",
              "      filter: drop-shadow(0px 1px 2px rgba(0, 0, 0, 0.3));\n",
              "      fill: #FFFFFF;\n",
              "    }\n",
              "  </style>\n",
              "\n",
              "    <script>\n",
              "      const buttonEl =\n",
              "        document.querySelector('#df-bf824048-9bd3-426e-93a0-b8a966c7f54e button.colab-df-convert');\n",
              "      buttonEl.style.display =\n",
              "        google.colab.kernel.accessAllowed ? 'block' : 'none';\n",
              "\n",
              "      async function convertToInteractive(key) {\n",
              "        const element = document.querySelector('#df-bf824048-9bd3-426e-93a0-b8a966c7f54e');\n",
              "        const dataTable =\n",
              "          await google.colab.kernel.invokeFunction('convertToInteractive',\n",
              "                                                    [key], {});\n",
              "        if (!dataTable) return;\n",
              "\n",
              "        const docLinkHtml = 'Like what you see? Visit the ' +\n",
              "          '<a target=\"_blank\" href=https://colab.research.google.com/notebooks/data_table.ipynb>data table notebook</a>'\n",
              "          + ' to learn more about interactive tables.';\n",
              "        element.innerHTML = '';\n",
              "        dataTable['output_type'] = 'display_data';\n",
              "        await google.colab.output.renderOutput(dataTable, element);\n",
              "        const docLink = document.createElement('div');\n",
              "        docLink.innerHTML = docLinkHtml;\n",
              "        element.appendChild(docLink);\n",
              "      }\n",
              "    </script>\n",
              "  </div>\n",
              "\n",
              "\n",
              "<div id=\"df-c81b9240-0651-4b94-a0de-f7281d3a498a\">\n",
              "  <button class=\"colab-df-quickchart\" onclick=\"quickchart('df-c81b9240-0651-4b94-a0de-f7281d3a498a')\"\n",
              "            title=\"Suggest charts\"\n",
              "            style=\"display:none;\">\n",
              "\n",
              "<svg xmlns=\"http://www.w3.org/2000/svg\" height=\"24px\"viewBox=\"0 0 24 24\"\n",
              "     width=\"24px\">\n",
              "    <g>\n",
              "        <path d=\"M19 3H5c-1.1 0-2 .9-2 2v14c0 1.1.9 2 2 2h14c1.1 0 2-.9 2-2V5c0-1.1-.9-2-2-2zM9 17H7v-7h2v7zm4 0h-2V7h2v10zm4 0h-2v-4h2v4z\"/>\n",
              "    </g>\n",
              "</svg>\n",
              "  </button>\n",
              "\n",
              "<style>\n",
              "  .colab-df-quickchart {\n",
              "      --bg-color: #E8F0FE;\n",
              "      --fill-color: #1967D2;\n",
              "      --hover-bg-color: #E2EBFA;\n",
              "      --hover-fill-color: #174EA6;\n",
              "      --disabled-fill-color: #AAA;\n",
              "      --disabled-bg-color: #DDD;\n",
              "  }\n",
              "\n",
              "  [theme=dark] .colab-df-quickchart {\n",
              "      --bg-color: #3B4455;\n",
              "      --fill-color: #D2E3FC;\n",
              "      --hover-bg-color: #434B5C;\n",
              "      --hover-fill-color: #FFFFFF;\n",
              "      --disabled-bg-color: #3B4455;\n",
              "      --disabled-fill-color: #666;\n",
              "  }\n",
              "\n",
              "  .colab-df-quickchart {\n",
              "    background-color: var(--bg-color);\n",
              "    border: none;\n",
              "    border-radius: 50%;\n",
              "    cursor: pointer;\n",
              "    display: none;\n",
              "    fill: var(--fill-color);\n",
              "    height: 32px;\n",
              "    padding: 0;\n",
              "    width: 32px;\n",
              "  }\n",
              "\n",
              "  .colab-df-quickchart:hover {\n",
              "    background-color: var(--hover-bg-color);\n",
              "    box-shadow: 0 1px 2px rgba(60, 64, 67, 0.3), 0 1px 3px 1px rgba(60, 64, 67, 0.15);\n",
              "    fill: var(--button-hover-fill-color);\n",
              "  }\n",
              "\n",
              "  .colab-df-quickchart-complete:disabled,\n",
              "  .colab-df-quickchart-complete:disabled:hover {\n",
              "    background-color: var(--disabled-bg-color);\n",
              "    fill: var(--disabled-fill-color);\n",
              "    box-shadow: none;\n",
              "  }\n",
              "\n",
              "  .colab-df-spinner {\n",
              "    border: 2px solid var(--fill-color);\n",
              "    border-color: transparent;\n",
              "    border-bottom-color: var(--fill-color);\n",
              "    animation:\n",
              "      spin 1s steps(1) infinite;\n",
              "  }\n",
              "\n",
              "  @keyframes spin {\n",
              "    0% {\n",
              "      border-color: transparent;\n",
              "      border-bottom-color: var(--fill-color);\n",
              "      border-left-color: var(--fill-color);\n",
              "    }\n",
              "    20% {\n",
              "      border-color: transparent;\n",
              "      border-left-color: var(--fill-color);\n",
              "      border-top-color: var(--fill-color);\n",
              "    }\n",
              "    30% {\n",
              "      border-color: transparent;\n",
              "      border-left-color: var(--fill-color);\n",
              "      border-top-color: var(--fill-color);\n",
              "      border-right-color: var(--fill-color);\n",
              "    }\n",
              "    40% {\n",
              "      border-color: transparent;\n",
              "      border-right-color: var(--fill-color);\n",
              "      border-top-color: var(--fill-color);\n",
              "    }\n",
              "    60% {\n",
              "      border-color: transparent;\n",
              "      border-right-color: var(--fill-color);\n",
              "    }\n",
              "    80% {\n",
              "      border-color: transparent;\n",
              "      border-right-color: var(--fill-color);\n",
              "      border-bottom-color: var(--fill-color);\n",
              "    }\n",
              "    90% {\n",
              "      border-color: transparent;\n",
              "      border-bottom-color: var(--fill-color);\n",
              "    }\n",
              "  }\n",
              "</style>\n",
              "\n",
              "  <script>\n",
              "    async function quickchart(key) {\n",
              "      const quickchartButtonEl =\n",
              "        document.querySelector('#' + key + ' button');\n",
              "      quickchartButtonEl.disabled = true;  // To prevent multiple clicks.\n",
              "      quickchartButtonEl.classList.add('colab-df-spinner');\n",
              "      try {\n",
              "        const charts = await google.colab.kernel.invokeFunction(\n",
              "            'suggestCharts', [key], {});\n",
              "      } catch (error) {\n",
              "        console.error('Error during call to suggestCharts:', error);\n",
              "      }\n",
              "      quickchartButtonEl.classList.remove('colab-df-spinner');\n",
              "      quickchartButtonEl.classList.add('colab-df-quickchart-complete');\n",
              "    }\n",
              "    (() => {\n",
              "      let quickchartButtonEl =\n",
              "        document.querySelector('#df-c81b9240-0651-4b94-a0de-f7281d3a498a button');\n",
              "      quickchartButtonEl.style.display =\n",
              "        google.colab.kernel.accessAllowed ? 'block' : 'none';\n",
              "    })();\n",
              "  </script>\n",
              "</div>\n",
              "    </div>\n",
              "  </div>\n"
            ]
          },
          "metadata": {},
          "execution_count": 3
        }
      ]
    },
    {
      "cell_type": "markdown",
      "source": [
        "# Variables\n"
      ],
      "metadata": {
        "id": "DvhQeb_Aa37u"
      }
    },
    {
      "cell_type": "markdown",
      "source": [
        "# Independent_variable = Age\n",
        "# Dependent_variable = SystolicBP"
      ],
      "metadata": {
        "id": "f5iD2zvYa_h5"
      }
    },
    {
      "cell_type": "code",
      "source": [
        "# extracting data for regression\n",
        "X = sm.add_constant(df['Age'])  # Adds a constant term to the predictor\n",
        "\n",
        "# fit the regression model\n",
        "model = sm.OLS(df['SystolicBP'], X)\n",
        "results = model.fit()\n",
        "\n",
        "print(results.summary())"
      ],
      "metadata": {
        "colab": {
          "base_uri": "https://localhost:8080/"
        },
        "id": "YMey3TwQcxM_",
        "outputId": "266c56c1-ee60-4b94-be8a-e334ae9ea82f"
      },
      "execution_count": 5,
      "outputs": [
        {
          "output_type": "stream",
          "name": "stdout",
          "text": [
            "                            OLS Regression Results                            \n",
            "==============================================================================\n",
            "Dep. Variable:             SystolicBP   R-squared:                       0.173\n",
            "Model:                            OLS   Adj. R-squared:                  0.172\n",
            "Method:                 Least Squares   F-statistic:                     211.8\n",
            "Date:                Sat, 11 Nov 2023   Prob (F-statistic):           1.03e-43\n",
            "Time:                        03:36:52   Log-Likelihood:                -4295.3\n",
            "No. Observations:                1014   AIC:                             8595.\n",
            "Df Residuals:                    1012   BIC:                             8604.\n",
            "Df Model:                           1                                         \n",
            "Covariance Type:            nonrobust                                         \n",
            "==============================================================================\n",
            "                 coef    std err          t      P>|t|      [0.025      0.975]\n",
            "------------------------------------------------------------------------------\n",
            "const         96.2235      1.279     75.214      0.000      93.713      98.734\n",
            "Age            0.5683      0.039     14.555      0.000       0.492       0.645\n",
            "==============================================================================\n",
            "Omnibus:                       24.672   Durbin-Watson:                   1.957\n",
            "Prob(Omnibus):                  0.000   Jarque-Bera (JB):               20.812\n",
            "Skew:                          -0.280   Prob(JB):                     3.02e-05\n",
            "Kurtosis:                       2.577   Cond. No.                         79.8\n",
            "==============================================================================\n",
            "\n",
            "Notes:\n",
            "[1] Standard Errors assume that the covariance matrix of the errors is correctly specified.\n"
          ]
        }
      ]
    },
    {
      "cell_type": "markdown",
      "source": [
        "## **Assumption/Evaluation**\n",
        "The regression model indicates an R-squared value of 0.173. This implies that approximately 17.3% of the variation in SystolicBP (dependent variable) can be explained by Age (independent variable). The relatively low R-squared value suggests that Age alone may not be a strong predictor of SystolicBP, indicating a weak relationship between the two variables.\n"
      ],
      "metadata": {
        "id": "MvQ9UsAGdsck"
      }
    },
    {
      "cell_type": "code",
      "source": [
        "### Assessing linearity of the relationship\n",
        "stat, p_value = linear_rainbow(results)\n",
        "print(f\"Rainbow Test: stat={stat}, p-value={p_value}\")"
      ],
      "metadata": {
        "colab": {
          "base_uri": "https://localhost:8080/"
        },
        "id": "2o80JvwqeARu",
        "outputId": "740780ba-bd45-435c-93a9-064eb43b5810"
      },
      "execution_count": 6,
      "outputs": [
        {
          "output_type": "stream",
          "name": "stdout",
          "text": [
            "Rainbow Test: stat=0.9422994456508089, p-value=0.7479772058452188\n"
          ]
        }
      ]
    },
    {
      "cell_type": "markdown",
      "source": [
        "### Assessing Linearity of the Relationship\n",
        "The Rainbow Test for linearity yields a test statistic of 0.9423 and a p-value of 0.748. Since the p-value is greater than the conventional significance level of 0.05, we fail to reject the null hypothesis. There is no strong evidence to suggest that the relationship between Age and SystolicBP is nonlinear.\n"
      ],
      "metadata": {
        "id": "R7h5gOYfeelI"
      }
    },
    {
      "cell_type": "code",
      "source": [
        "residuals = results.resid\n",
        "fitted = results.fittedvalues"
      ],
      "metadata": {
        "id": "W-_N4DFHeFYq"
      },
      "execution_count": 7,
      "outputs": []
    },
    {
      "cell_type": "code",
      "source": [
        "plt.figure(figsize=(10, 6))\n",
        "sns.scatterplot(x=df['BS'], y=fitted)\n",
        "plt.xlabel('Observed Values')\n",
        "plt.ylabel('Fitted Values')\n",
        "plt.title('Observed vs Fitted Values')\n",
        "plt.plot([min(df['BS']), max(df['BS'])], [min(fitted), max(fitted)], color='red', linestyle='--')\n",
        "plt.show()"
      ],
      "metadata": {
        "colab": {
          "base_uri": "https://localhost:8080/",
          "height": 564
        },
        "id": "YGDtBuKkexy1",
        "outputId": "478bcc12-e82e-4e4b-a814-8447fee5a34f"
      },
      "execution_count": 10,
      "outputs": [
        {
          "output_type": "display_data",
          "data": {
            "text/plain": [
              "<Figure size 1000x600 with 1 Axes>"
            ],
            "image/png": "[encoded data removed]"
          },
          "metadata": {}
        }
      ]
    },
    {
      "cell_type": "code",
      "source": [
        "### Assessing normality of the residuals\n",
        "W, p_value = shapiro(residuals)\n",
        "print(f\"Shapiro-Wilk Test: W={W}, p-value={p_value}\")\n",
        "\n",
        "# Plot Q-Q plot of residuals\n",
        "plt.figure(figsize=(10, 6))\n",
        "stats.probplot(residuals, plot=plt)\n",
        "plt.title('Q-Q Plot of Residuals')\n",
        "plt.show()"
      ],
      "metadata": {
        "colab": {
          "base_uri": "https://localhost:8080/",
          "height": 581
        },
        "id": "v5oddS5We-p3",
        "outputId": "0f3eb9d6-1a2d-410a-8c87-4d268b9f9eb1"
      },
      "execution_count": 11,
      "outputs": [
        {
          "output_type": "stream",
          "name": "stdout",
          "text": [
            "Shapiro-Wilk Test: W=0.9792269468307495, p-value=7.463880208335993e-11\n"
          ]
        },
        {
          "output_type": "display_data",
          "data": {
            "text/plain": [
              "<Figure size 1000x600 with 1 Axes>"
            ],
            "image/png": "[encoded data removed]"
          },
          "metadata": {}
        }
      ]
    },
    {
      "cell_type": "markdown",
      "source": [
        "### Shapiro-Wilk Test for Normality\n",
        "The Shapiro-Wilk test on the residuals of the regression model yields a W-statistic of 0.9792 and an extremely low p-value of 7.46e-11. Since the p-value is well below the conventional significance level of 0.05, we reject the null hypothesis. This suggests that the residuals are not normally distributed.\n",
        "\n"
      ],
      "metadata": {
        "id": "zK8Bmki0foW2"
      }
    },
    {
      "cell_type": "code",
      "source": [
        "##### Assessing the homogeneity of variance of the residuals\n",
        "gq_test = het_goldfeldquandt(residuals, results.model.exog)\n",
        "print(f\"Goldfeld-Quandt Test: F-statistic={gq_test[0]}, p-value={gq_test[1]}\")"
      ],
      "metadata": {
        "colab": {
          "base_uri": "https://localhost:8080/"
        },
        "id": "XgoSB35WfujW",
        "outputId": "1f09e7e7-d60e-4c13-b3e7-beca29153840"
      },
      "execution_count": 12,
      "outputs": [
        {
          "output_type": "stream",
          "name": "stdout",
          "text": [
            "Goldfeld-Quandt Test: F-statistic=0.8710478263699932, p-value=0.9394119363989578\n"
          ]
        }
      ]
    },
    {
      "cell_type": "markdown",
      "source": [
        "### Goldfeld-Quandt Test for Heteroscedasticity\n",
        "The Goldfeld-Quandt test yields an F-statistic of 0.8710 with a p-value of 0.9394. Since the p-value is greater than the conventional significance level of 0.05, we fail to reject the null hypothesis. This suggests that there is no strong evidence of heteroscedasticity in the residuals.\n",
        "\n"
      ],
      "metadata": {
        "id": "fJvmzo1sf_nX"
      }
    },
    {
      "cell_type": "markdown",
      "source": [
        "## **The Reasoning Behind My Dataset and Variable Choices**\n",
        "\n",
        "I selected the \"Maternal Health Risk\" dataset due to its relevance to maternal health outcomes during pregnancy. The dataset offers a deeper understanding of factors associated with maternal well-being, making it a valuable resource for investigating potential correlations and risks.\n",
        "\n",
        "### **Variable Selection:**\n",
        "- **Dependent Variable (Response):**\n",
        "  - I chose Systolic Blood Pressure as the dependent variable. This choice aligns with the significance of monitoring cardiovascular health during pregnancy.\n",
        "\n",
        "- **Independent Variables (Predictors):**\n",
        "  - The inclusion of multiple numerical variables in the dataset provided a rich set of health indicators to analyze.\n",
        "\n",
        "- **Choice of Age as Independent Variable:**\n",
        "  - Age was chosen as the independent variable without a specific predetermined reason. The decision was driven by the exploration of potential relationships between maternal age and systolic blood pressure. This open-ended approach allows for uncovering any unforeseen correlations and contributing to a comprehensive understanding of maternal health risk factors.\n",
        "\n",
        "### **Exploratory Goal:**\n",
        "The goal of this analysis is to explore the complex relationship between maternal age and various physiological measures, such as diastolic blood pressure, blood sugar levels, body temperature, and heart rate. By examining these relationships, the aim is to contribute valuable insights into potential risk factors impacting maternal health during pregnancy.\n"
      ],
      "metadata": {
        "id": "HpthWxn7gtJc"
      }
    },
    {
      "cell_type": "markdown",
      "source": [
        "##**Multiple Linear Regression**"
      ],
      "metadata": {
        "id": "I9pOlbWAha4a"
      }
    },
    {
      "cell_type": "markdown",
      "source": [
        "### Variables:\n",
        "\n",
        "**Independent Variables:**\n",
        "- Age\n",
        "- Diastolic Blood Pressure\n",
        "- Blood Sugar\n",
        "- Body Temperature\n",
        "- Heart Rate\n",
        "\n",
        "**Dependent Variable:**\n",
        "- Systolic Blood Pressure\n"
      ],
      "metadata": {
        "id": "zXZhXEyTh3Kz"
      }
    },
    {
      "cell_type": "code",
      "source": [
        "X = df[['BodyTemp', 'Age', 'BS', 'DiastolicBP', 'HeartRate']]\n",
        "X = sm.add_constant(X)  # Adds a constant term to the predictor\n",
        "y = df['SystolicBP']\n",
        "\n",
        "model_1 = sm.OLS(y, X)\n",
        "\n",
        "results_1 = model_1.fit()\n",
        "\n",
        "print(results_1.summary())"
      ],
      "metadata": {
        "colab": {
          "base_uri": "https://localhost:8080/"
        },
        "id": "KnAft6_JiH-1",
        "outputId": "aac516d5-74d6-4195-b6b8-26d817f86002"
      },
      "execution_count": 13,
      "outputs": [
        {
          "output_type": "stream",
          "name": "stdout",
          "text": [
            "                            OLS Regression Results                            \n",
            "==============================================================================\n",
            "Dep. Variable:             SystolicBP   R-squared:                       0.642\n",
            "Model:                            OLS   Adj. R-squared:                  0.640\n",
            "Method:                 Least Squares   F-statistic:                     360.8\n",
            "Date:                Sat, 11 Nov 2023   Prob (F-statistic):          1.21e-221\n",
            "Time:                        03:59:58   Log-Likelihood:                -3871.5\n",
            "No. Observations:                1014   AIC:                             7755.\n",
            "Df Residuals:                    1008   BIC:                             7785.\n",
            "Df Model:                           5                                         \n",
            "Covariance Type:            nonrobust                                         \n",
            "===============================================================================\n",
            "                  coef    std err          t      P>|t|      [0.025      0.975]\n",
            "-------------------------------------------------------------------------------\n",
            "const         137.8030     26.898      5.123      0.000      85.020     190.586\n",
            "BodyTemp       -1.0402      0.268     -3.881      0.000      -1.566      -0.514\n",
            "Age             0.1065      0.031      3.460      0.001       0.046       0.167\n",
            "BS              0.4666      0.127      3.682      0.000       0.218       0.715\n",
            "DiastolicBP     0.9285      0.029     31.827      0.000       0.871       0.986\n",
            "HeartRate      -0.0029      0.044     -0.066      0.947      -0.089       0.083\n",
            "==============================================================================\n",
            "Omnibus:                       35.208   Durbin-Watson:                   1.842\n",
            "Prob(Omnibus):                  0.000   Jarque-Bera (JB):               38.061\n",
            "Skew:                           0.471   Prob(JB):                     5.43e-09\n",
            "Kurtosis:                       3.120   Cond. No.                     1.15e+04\n",
            "==============================================================================\n",
            "\n",
            "Notes:\n",
            "[1] Standard Errors assume that the covariance matrix of the errors is correctly specified.\n",
            "[2] The condition number is large, 1.15e+04. This might indicate that there are\n",
            "strong multicollinearity or other numerical problems.\n"
          ]
        }
      ]
    },
    {
      "cell_type": "markdown",
      "source": [
        "## **Assumption**\n",
        "The multiple regression model exhibits an R-squared value of 0.642, indicating a moderate level of explanation (64.2%) of the variability in Systolic Blood Pressure by the chosen independent variables. However, the potential non-normality of residuals and slight positive autocorrelation should be noted. The model demonstrates a reasonably good fit, but further investigation and consideration of alternative diagnostic measures may enhance its reliability.\n"
      ],
      "metadata": {
        "id": "5RpAcpBCiou7"
      }
    },
    {
      "cell_type": "code",
      "source": [
        "residuals = results.resid\n",
        "fitted = results.fittedvalues"
      ],
      "metadata": {
        "id": "LfwBtfuWisAl"
      },
      "execution_count": 14,
      "outputs": []
    },
    {
      "cell_type": "code",
      "source": [
        "# Checking multicollinearity using VIF\n",
        "vif_data = pd.DataFrame()\n",
        "vif_data['Variable'] = X.columns\n",
        "vif_data['VIF'] = [variance_inflation_factor(X.values, i) for i in range(X.shape[1])]\n",
        "print(\"\\nVIF Data:\")\n",
        "print(vif_data)"
      ],
      "metadata": {
        "colab": {
          "base_uri": "https://localhost:8080/"
        },
        "id": "axiNlkfgi0xX",
        "outputId": "c627de25-9263-4780-8cac-b4c00573f6b0"
      },
      "execution_count": 15,
      "outputs": [
        {
          "output_type": "stream",
          "name": "stdout",
          "text": [
            "\n",
            "VIF Data:\n",
            "      Variable          VIF\n",
            "0        const  6012.699203\n",
            "1     BodyTemp     1.121632\n",
            "2          Age     1.428679\n",
            "3           BS     1.446578\n",
            "4  DiastolicBP     1.362384\n",
            "5    HeartRate     1.048250\n"
          ]
        }
      ]
    },
    {
      "cell_type": "markdown",
      "source": [
        "## **VIF Insights**\n",
        "The VIF data reveals that multicollinearity is not a significant concern in the multiple regression model. All variables, including BodyTemp, Age, BS, DiastolicBP, and HeartRate, exhibit VIF values well below the commonly accepted threshold of 10. The highest VIF, found for the constant term, is likely due to the nature of the intercept.\n"
      ],
      "metadata": {
        "id": "sSPAFyFzi_W3"
      }
    },
    {
      "cell_type": "code",
      "source": [
        "### Assessing linearity of the relationship\n",
        "stat, p_value = linear_rainbow(results)\n",
        "print(f\"Rainbow Test: stat={stat}, p-value={p_value}\")"
      ],
      "metadata": {
        "colab": {
          "base_uri": "https://localhost:8080/"
        },
        "id": "Nl9o03ufjGZJ",
        "outputId": "7ea9bd94-c5c2-4ceb-9b94-467d43098cca"
      },
      "execution_count": 16,
      "outputs": [
        {
          "output_type": "stream",
          "name": "stdout",
          "text": [
            "Rainbow Test: stat=0.9422994456508089, p-value=0.7479772058452188\n"
          ]
        }
      ]
    },
    {
      "cell_type": "markdown",
      "source": [
        "## **Linearity Assessment with Rainbow Test**\n",
        "The Rainbow Test, with a p-value of 0.748, suggests that our multiple regression model effectively captures the linear relationship between the independent variables and the dependent variable. There is no strong evidence to indicate a departure from linearity, supporting the validity of our model in representing linear associations.\n",
        "\n"
      ],
      "metadata": {
        "id": "DOHv_XNYjOZ4"
      }
    },
    {
      "cell_type": "code",
      "source": [
        "### Assessing normality of the residuals\n",
        "W, p_value = shapiro(residuals)\n",
        "print(f\"Shapiro-Wilk Test: W={W}, p-value={p_value}\")\n",
        "\n",
        "# Plot Q-Q plot of residuals\n",
        "plt.figure(figsize=(10, 6))\n",
        "stats.probplot(residuals, plot=plt)\n",
        "plt.title('Q-Q Plot of Residuals')\n",
        "plt.show()"
      ],
      "metadata": {
        "colab": {
          "base_uri": "https://localhost:8080/",
          "height": 581
        },
        "id": "SzN5UGF8jaF_",
        "outputId": "7df520f4-f110-4727-ad55-7b792f1fc1f4"
      },
      "execution_count": 17,
      "outputs": [
        {
          "output_type": "stream",
          "name": "stdout",
          "text": [
            "Shapiro-Wilk Test: W=0.9792269468307495, p-value=7.463880208335993e-11\n"
          ]
        },
        {
          "output_type": "display_data",
          "data": {
            "text/plain": [
              "<Figure size 1000x600 with 1 Axes>"
            ],
            "image/png": "[encoded data removed]"
          },
          "metadata": {}
        }
      ]
    },
    {
      "cell_type": "markdown",
      "source": [
        "## **Shapiro-Wilk Test for Normality**\n",
        "The Shapiro-Wilk Test on residuals yields a W-statistic of 0.9792 and an extremely low p-value of 7.46e-11. The small p-value indicates a departure from normality in the residuals. While the normality assumption may be violated, it's essential to consider the robustness of regression models to this violation, especially with larger sample sizes.\n"
      ],
      "metadata": {
        "id": "8gHNyi-_jjF0"
      }
    },
    {
      "cell_type": "code",
      "source": [
        "gq_test = het_goldfeldquandt(residuals, results.model.exog)\n",
        "print(f\"Goldfeld-Quandt Test: F-statistic={gq_test[0]}, p-value={gq_test[1]}\")"
      ],
      "metadata": {
        "colab": {
          "base_uri": "https://localhost:8080/"
        },
        "id": "Q-tDhLVyjpQR",
        "outputId": "1576e5fe-3e3f-426d-f1f0-05d316eecbcd"
      },
      "execution_count": 20,
      "outputs": [
        {
          "output_type": "stream",
          "name": "stdout",
          "text": [
            "Goldfeld-Quandt Test: F-statistic=0.8710478263699932, p-value=0.9394119363989578\n"
          ]
        }
      ]
    },
    {
      "cell_type": "markdown",
      "source": [
        "## **Goldfeld-Quandt Test**\n",
        "The Goldfeld-Quandt Test returns an F-statistic of 0.8710 with a p-value of 0.9394. Given the p-value exceeding the common significance level of 0.05, there is no strong evidence to reject the null hypothesis of homoscedasticity. This suggests that the variance of residuals remains relatively consistent across different levels of the independent variables, supporting the assumption of homoscedasticity in the regression model.\n"
      ],
      "metadata": {
        "id": "C4hZRLjpjvQU"
      }
    }
  ]
}